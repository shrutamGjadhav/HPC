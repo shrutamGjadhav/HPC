{
 "cells": [
  {
   "cell_type": "code",
   "execution_count": 1,
   "id": "5542dab4",
   "metadata": {},
   "outputs": [],
   "source": [
    "import numpy as np\n",
    "import pandas as pd\n",
    "import matplotlib.pyplot as plt"
   ]
  },
  {
   "cell_type": "code",
   "execution_count": 2,
   "id": "dbe07cd3",
   "metadata": {},
   "outputs": [],
   "source": [
    "dataset_train = pd.read_csv(\"trainset.csv\")"
   ]
  },
  {
   "cell_type": "code",
   "execution_count": 3,
   "id": "c7fad9f1",
   "metadata": {},
   "outputs": [
    {
     "data": {
      "text/html": [
       "<div>\n",
       "<style scoped>\n",
       "    .dataframe tbody tr th:only-of-type {\n",
       "        vertical-align: middle;\n",
       "    }\n",
       "\n",
       "    .dataframe tbody tr th {\n",
       "        vertical-align: top;\n",
       "    }\n",
       "\n",
       "    .dataframe thead th {\n",
       "        text-align: right;\n",
       "    }\n",
       "</style>\n",
       "<table border=\"1\" class=\"dataframe\">\n",
       "  <thead>\n",
       "    <tr style=\"text-align: right;\">\n",
       "      <th></th>\n",
       "      <th>Date</th>\n",
       "      <th>Open</th>\n",
       "      <th>High</th>\n",
       "      <th>Low</th>\n",
       "      <th>Close</th>\n",
       "      <th>Adj Close</th>\n",
       "      <th>Volume</th>\n",
       "    </tr>\n",
       "  </thead>\n",
       "  <tbody>\n",
       "    <tr>\n",
       "      <th>0</th>\n",
       "      <td>2013-01-02</td>\n",
       "      <td>357.385559</td>\n",
       "      <td>361.151062</td>\n",
       "      <td>355.959839</td>\n",
       "      <td>359.288177</td>\n",
       "      <td>359.288177</td>\n",
       "      <td>5115500</td>\n",
       "    </tr>\n",
       "    <tr>\n",
       "      <th>1</th>\n",
       "      <td>2013-01-03</td>\n",
       "      <td>360.122742</td>\n",
       "      <td>363.600128</td>\n",
       "      <td>358.031342</td>\n",
       "      <td>359.496826</td>\n",
       "      <td>359.496826</td>\n",
       "      <td>4666500</td>\n",
       "    </tr>\n",
       "    <tr>\n",
       "      <th>2</th>\n",
       "      <td>2013-01-04</td>\n",
       "      <td>362.313507</td>\n",
       "      <td>368.339294</td>\n",
       "      <td>361.488861</td>\n",
       "      <td>366.600616</td>\n",
       "      <td>366.600616</td>\n",
       "      <td>5562800</td>\n",
       "    </tr>\n",
       "    <tr>\n",
       "      <th>3</th>\n",
       "      <td>2013-01-07</td>\n",
       "      <td>365.348755</td>\n",
       "      <td>367.301056</td>\n",
       "      <td>362.929504</td>\n",
       "      <td>365.001007</td>\n",
       "      <td>365.001007</td>\n",
       "      <td>3332900</td>\n",
       "    </tr>\n",
       "    <tr>\n",
       "      <th>4</th>\n",
       "      <td>2013-01-08</td>\n",
       "      <td>365.393463</td>\n",
       "      <td>365.771027</td>\n",
       "      <td>359.874359</td>\n",
       "      <td>364.280701</td>\n",
       "      <td>364.280701</td>\n",
       "      <td>3373900</td>\n",
       "    </tr>\n",
       "    <tr>\n",
       "      <th>...</th>\n",
       "      <td>...</td>\n",
       "      <td>...</td>\n",
       "      <td>...</td>\n",
       "      <td>...</td>\n",
       "      <td>...</td>\n",
       "      <td>...</td>\n",
       "      <td>...</td>\n",
       "    </tr>\n",
       "    <tr>\n",
       "      <th>1254</th>\n",
       "      <td>2017-12-22</td>\n",
       "      <td>1061.109985</td>\n",
       "      <td>1064.199951</td>\n",
       "      <td>1059.439941</td>\n",
       "      <td>1060.119995</td>\n",
       "      <td>1060.119995</td>\n",
       "      <td>755100</td>\n",
       "    </tr>\n",
       "    <tr>\n",
       "      <th>1255</th>\n",
       "      <td>2017-12-26</td>\n",
       "      <td>1058.069946</td>\n",
       "      <td>1060.119995</td>\n",
       "      <td>1050.199951</td>\n",
       "      <td>1056.739990</td>\n",
       "      <td>1056.739990</td>\n",
       "      <td>760600</td>\n",
       "    </tr>\n",
       "    <tr>\n",
       "      <th>1256</th>\n",
       "      <td>2017-12-27</td>\n",
       "      <td>1057.390015</td>\n",
       "      <td>1058.369995</td>\n",
       "      <td>1048.050049</td>\n",
       "      <td>1049.369995</td>\n",
       "      <td>1049.369995</td>\n",
       "      <td>1271900</td>\n",
       "    </tr>\n",
       "    <tr>\n",
       "      <th>1257</th>\n",
       "      <td>2017-12-28</td>\n",
       "      <td>1051.599976</td>\n",
       "      <td>1054.750000</td>\n",
       "      <td>1044.770020</td>\n",
       "      <td>1048.140015</td>\n",
       "      <td>1048.140015</td>\n",
       "      <td>837100</td>\n",
       "    </tr>\n",
       "    <tr>\n",
       "      <th>1258</th>\n",
       "      <td>2017-12-29</td>\n",
       "      <td>1046.719971</td>\n",
       "      <td>1049.699951</td>\n",
       "      <td>1044.900024</td>\n",
       "      <td>1046.400024</td>\n",
       "      <td>1046.400024</td>\n",
       "      <td>887500</td>\n",
       "    </tr>\n",
       "  </tbody>\n",
       "</table>\n",
       "<p>1259 rows × 7 columns</p>\n",
       "</div>"
      ],
      "text/plain": [
       "            Date         Open         High          Low        Close  \\\n",
       "0     2013-01-02   357.385559   361.151062   355.959839   359.288177   \n",
       "1     2013-01-03   360.122742   363.600128   358.031342   359.496826   \n",
       "2     2013-01-04   362.313507   368.339294   361.488861   366.600616   \n",
       "3     2013-01-07   365.348755   367.301056   362.929504   365.001007   \n",
       "4     2013-01-08   365.393463   365.771027   359.874359   364.280701   \n",
       "...          ...          ...          ...          ...          ...   \n",
       "1254  2017-12-22  1061.109985  1064.199951  1059.439941  1060.119995   \n",
       "1255  2017-12-26  1058.069946  1060.119995  1050.199951  1056.739990   \n",
       "1256  2017-12-27  1057.390015  1058.369995  1048.050049  1049.369995   \n",
       "1257  2017-12-28  1051.599976  1054.750000  1044.770020  1048.140015   \n",
       "1258  2017-12-29  1046.719971  1049.699951  1044.900024  1046.400024   \n",
       "\n",
       "        Adj Close   Volume  \n",
       "0      359.288177  5115500  \n",
       "1      359.496826  4666500  \n",
       "2      366.600616  5562800  \n",
       "3      365.001007  3332900  \n",
       "4      364.280701  3373900  \n",
       "...           ...      ...  \n",
       "1254  1060.119995   755100  \n",
       "1255  1056.739990   760600  \n",
       "1256  1049.369995  1271900  \n",
       "1257  1048.140015   837100  \n",
       "1258  1046.400024   887500  \n",
       "\n",
       "[1259 rows x 7 columns]"
      ]
     },
     "execution_count": 3,
     "metadata": {},
     "output_type": "execute_result"
    }
   ],
   "source": [
    "dataset_train"
   ]
  },
  {
   "cell_type": "code",
   "execution_count": 4,
   "id": "0d52c012",
   "metadata": {},
   "outputs": [],
   "source": [
    "trainset = dataset_train.iloc[:,1:2].values"
   ]
  },
  {
   "cell_type": "code",
   "execution_count": 5,
   "id": "ce382c06",
   "metadata": {},
   "outputs": [
    {
     "data": {
      "text/plain": [
       "array([[ 357.385559],\n",
       "       [ 360.122742],\n",
       "       [ 362.313507],\n",
       "       ...,\n",
       "       [1057.390015],\n",
       "       [1051.599976],\n",
       "       [1046.719971]])"
      ]
     },
     "execution_count": 5,
     "metadata": {},
     "output_type": "execute_result"
    }
   ],
   "source": [
    "trainset"
   ]
  },
  {
   "cell_type": "code",
   "execution_count": 6,
   "id": "5b452ef4",
   "metadata": {},
   "outputs": [],
   "source": [
    "from sklearn.preprocessing import MinMaxScaler\n",
    "sc = MinMaxScaler(feature_range = (0,1))\n",
    "training_scaled = sc.fit_transform(trainset)"
   ]
  },
  {
   "cell_type": "code",
   "execution_count": 7,
   "id": "4bdafbf4",
   "metadata": {},
   "outputs": [
    {
     "data": {
      "text/plain": [
       "array([[0.01011148],\n",
       "       [0.01388614],\n",
       "       [0.01690727],\n",
       "       ...,\n",
       "       [0.97543954],\n",
       "       [0.9674549 ],\n",
       "       [0.96072522]])"
      ]
     },
     "execution_count": 7,
     "metadata": {},
     "output_type": "execute_result"
    }
   ],
   "source": [
    "training_scaled"
   ]
  },
  {
   "cell_type": "code",
   "execution_count": 8,
   "id": "d48088cc",
   "metadata": {},
   "outputs": [],
   "source": [
    "x_train = []\n",
    "y_train = []"
   ]
  },
  {
   "cell_type": "code",
   "execution_count": 9,
   "id": "075b8d58",
   "metadata": {},
   "outputs": [],
   "source": [
    "for i in range(60,1259):\n",
    "    x_train.append(training_scaled[i-60:i, 0])\n",
    "    y_train.append(training_scaled[i,0])\n",
    "x_train,y_train = np.array(x_train),np.array(y_train)"
   ]
  },
  {
   "cell_type": "code",
   "execution_count": 10,
   "id": "b5c2c2b0",
   "metadata": {},
   "outputs": [
    {
     "data": {
      "text/plain": [
       "(1199, 60)"
      ]
     },
     "execution_count": 10,
     "metadata": {},
     "output_type": "execute_result"
    }
   ],
   "source": [
    "x_train.shape"
   ]
  },
  {
   "cell_type": "code",
   "execution_count": 11,
   "id": "73cc6a08",
   "metadata": {},
   "outputs": [],
   "source": [
    "x_train = np.reshape(x_train, (x_train.shape[0],x_train.shape[1],1))"
   ]
  },
  {
   "cell_type": "code",
   "execution_count": 12,
   "id": "1fe80b40",
   "metadata": {},
   "outputs": [],
   "source": [
    "from keras.models import Sequential\n",
    "from keras.layers import Dense\n",
    "from keras.layers import LSTM\n",
    "from keras.layers import Dropout"
   ]
  },
  {
   "cell_type": "code",
   "execution_count": 13,
   "id": "9b60d8cb",
   "metadata": {},
   "outputs": [],
   "source": [
    "regressor = Sequential()\n",
    "regressor.add(LSTM(units = 50,return_sequences = True,input_shape = (x_train.shape[1],1)))"
   ]
  },
  {
   "cell_type": "code",
   "execution_count": 14,
   "id": "c840ca1c",
   "metadata": {},
   "outputs": [],
   "source": [
    "regressor.add(Dropout(0.2))"
   ]
  },
  {
   "cell_type": "code",
   "execution_count": 15,
   "id": "9086969a",
   "metadata": {},
   "outputs": [],
   "source": [
    "regressor.add(LSTM(units = 50,return_sequences = True))\n",
    "regressor.add(Dropout(0.2))"
   ]
  },
  {
   "cell_type": "code",
   "execution_count": 16,
   "id": "a597e4ea",
   "metadata": {},
   "outputs": [],
   "source": [
    "regressor.add(LSTM(units = 50,return_sequences = True))\n",
    "regressor.add(Dropout(0.2))"
   ]
  },
  {
   "cell_type": "code",
   "execution_count": 17,
   "id": "0c9c1fc1",
   "metadata": {},
   "outputs": [],
   "source": [
    "regressor.add(LSTM(units = 50))\n",
    "regressor.add(Dropout(0.2))"
   ]
  },
  {
   "cell_type": "code",
   "execution_count": 18,
   "id": "43dd7ebf",
   "metadata": {},
   "outputs": [],
   "source": [
    "regressor.add(Dense(units = 1))"
   ]
  },
  {
   "cell_type": "code",
   "execution_count": 19,
   "id": "fd9ed076",
   "metadata": {},
   "outputs": [],
   "source": [
    "regressor.compile(optimizer = 'adam',loss = 'mean_squared_error')"
   ]
  },
  {
   "cell_type": "code",
   "execution_count": 20,
   "id": "07908da2",
   "metadata": {},
   "outputs": [
    {
     "name": "stdout",
     "output_type": "stream",
     "text": [
      "Epoch 1/50\n",
      "38/38 [==============================] - 40s 274ms/step - loss: 0.0351\n",
      "Epoch 2/50\n",
      "38/38 [==============================] - 10s 259ms/step - loss: 0.0045\n",
      "Epoch 3/50\n",
      "38/38 [==============================] - 13s 336ms/step - loss: 0.0037\n",
      "Epoch 4/50\n",
      "38/38 [==============================] - 8s 216ms/step - loss: 0.0036\n",
      "Epoch 5/50\n",
      "38/38 [==============================] - 13s 334ms/step - loss: 0.0034\n",
      "Epoch 6/50\n",
      "38/38 [==============================] - 10s 272ms/step - loss: 0.0035\n",
      "Epoch 7/50\n",
      "38/38 [==============================] - 10s 266ms/step - loss: 0.0039\n",
      "Epoch 8/50\n",
      "38/38 [==============================] - 10s 271ms/step - loss: 0.0033\n",
      "Epoch 9/50\n",
      "38/38 [==============================] - 10s 270ms/step - loss: 0.0030\n",
      "Epoch 10/50\n",
      "38/38 [==============================] - 11s 288ms/step - loss: 0.0029\n",
      "Epoch 11/50\n",
      "38/38 [==============================] - 10s 266ms/step - loss: 0.0030\n",
      "Epoch 12/50\n",
      "38/38 [==============================] - 10s 263ms/step - loss: 0.0034\n",
      "Epoch 13/50\n",
      "38/38 [==============================] - 10s 267ms/step - loss: 0.0026\n",
      "Epoch 14/50\n",
      "38/38 [==============================] - 8s 205ms/step - loss: 0.0028\n",
      "Epoch 15/50\n",
      "38/38 [==============================] - 9s 235ms/step - loss: 0.0030\n",
      "Epoch 16/50\n",
      "38/38 [==============================] - 10s 264ms/step - loss: 0.0034\n",
      "Epoch 17/50\n",
      "38/38 [==============================] - 10s 262ms/step - loss: 0.0025\n",
      "Epoch 18/50\n",
      "38/38 [==============================] - 10s 271ms/step - loss: 0.0027\n",
      "Epoch 19/50\n",
      "38/38 [==============================] - 10s 264ms/step - loss: 0.0025\n",
      "Epoch 20/50\n",
      "38/38 [==============================] - 10s 267ms/step - loss: 0.0027\n",
      "Epoch 21/50\n",
      "38/38 [==============================] - 10s 269ms/step - loss: 0.0025\n",
      "Epoch 22/50\n",
      "38/38 [==============================] - 10s 269ms/step - loss: 0.0028\n",
      "Epoch 23/50\n",
      "38/38 [==============================] - 10s 269ms/step - loss: 0.0023\n",
      "Epoch 24/50\n",
      "38/38 [==============================] - 10s 267ms/step - loss: 0.0023\n",
      "Epoch 25/50\n",
      "38/38 [==============================] - 10s 271ms/step - loss: 0.0023\n",
      "Epoch 26/50\n",
      "38/38 [==============================] - 7s 193ms/step - loss: 0.0021\n",
      "Epoch 27/50\n",
      "38/38 [==============================] - 9s 250ms/step - loss: 0.0022\n",
      "Epoch 28/50\n",
      "38/38 [==============================] - 10s 268ms/step - loss: 0.0022\n",
      "Epoch 29/50\n",
      "38/38 [==============================] - 10s 256ms/step - loss: 0.0022\n",
      "Epoch 30/50\n",
      "38/38 [==============================] - 10s 271ms/step - loss: 0.0024\n",
      "Epoch 31/50\n",
      "38/38 [==============================] - 10s 270ms/step - loss: 0.0021\n",
      "Epoch 32/50\n",
      "38/38 [==============================] - 10s 269ms/step - loss: 0.0021\n",
      "Epoch 33/50\n",
      "38/38 [==============================] - 9s 249ms/step - loss: 0.0021\n",
      "Epoch 34/50\n",
      "38/38 [==============================] - 10s 269ms/step - loss: 0.0023\n",
      "Epoch 35/50\n",
      "38/38 [==============================] - 10s 269ms/step - loss: 0.0020\n",
      "Epoch 36/50\n",
      "38/38 [==============================] - 10s 270ms/step - loss: 0.0022\n",
      "Epoch 37/50\n",
      "38/38 [==============================] - 10s 268ms/step - loss: 0.0018\n",
      "Epoch 38/50\n",
      "38/38 [==============================] - 11s 279ms/step - loss: 0.0019\n",
      "Epoch 39/50\n",
      "38/38 [==============================] - 10s 271ms/step - loss: 0.0023\n",
      "Epoch 40/50\n",
      "38/38 [==============================] - 11s 279ms/step - loss: 0.0018\n",
      "Epoch 41/50\n",
      "38/38 [==============================] - 10s 259ms/step - loss: 0.0025\n",
      "Epoch 42/50\n",
      "38/38 [==============================] - 10s 269ms/step - loss: 0.0016\n",
      "Epoch 43/50\n",
      "38/38 [==============================] - 10s 270ms/step - loss: 0.0018\n",
      "Epoch 44/50\n",
      "38/38 [==============================] - 10s 267ms/step - loss: 0.0018\n",
      "Epoch 45/50\n",
      "38/38 [==============================] - 12s 323ms/step - loss: 0.0018\n",
      "Epoch 46/50\n",
      "38/38 [==============================] - 10s 274ms/step - loss: 0.0018\n",
      "Epoch 47/50\n",
      "38/38 [==============================] - 13s 331ms/step - loss: 0.0018\n",
      "Epoch 48/50\n",
      "38/38 [==============================] - 10s 270ms/step - loss: 0.0020\n",
      "Epoch 49/50\n",
      "38/38 [==============================] - 7s 184ms/step - loss: 0.0017\n",
      "Epoch 50/50\n",
      "38/38 [==============================] - 9s 239ms/step - loss: 0.0017\n"
     ]
    },
    {
     "data": {
      "text/plain": [
       "<keras.callbacks.History at 0x1e7aa29ae90>"
      ]
     },
     "execution_count": 20,
     "metadata": {},
     "output_type": "execute_result"
    }
   ],
   "source": [
    "regressor.fit(x_train,y_train,epochs = 50, batch_size = 32)"
   ]
  },
  {
   "cell_type": "code",
   "execution_count": 21,
   "id": "47970b26",
   "metadata": {},
   "outputs": [],
   "source": [
    "dataset_test =pd.read_csv(\"testset.csv\")"
   ]
  },
  {
   "cell_type": "code",
   "execution_count": 22,
   "id": "c09de464",
   "metadata": {},
   "outputs": [],
   "source": [
    "real_stock_price = dataset_test.iloc[:,1:2].values"
   ]
  },
  {
   "cell_type": "code",
   "execution_count": 23,
   "id": "574e6de1",
   "metadata": {},
   "outputs": [
    {
     "data": {
      "text/plain": [
       "0       357.385559\n",
       "1       360.122742\n",
       "2       362.313507\n",
       "3       365.348755\n",
       "4       365.393463\n",
       "          ...     \n",
       "120    1143.599976\n",
       "121    1128.000000\n",
       "122    1121.339966\n",
       "123    1102.089966\n",
       "124    1120.000000\n",
       "Name: Open, Length: 1384, dtype: float64"
      ]
     },
     "execution_count": 23,
     "metadata": {},
     "output_type": "execute_result"
    }
   ],
   "source": [
    "dataset_total = pd.concat((dataset_train['Open'],dataset_test['Open']),axis = 0)\n",
    "dataset_total"
   ]
  },
  {
   "cell_type": "code",
   "execution_count": 24,
   "id": "a5bcd768",
   "metadata": {},
   "outputs": [
    {
     "data": {
      "text/plain": [
       "array([ 955.48999 ,  966.700012,  980.      ,  980.      ,  973.719971,\n",
       "        987.450012,  992.      ,  992.099976,  990.289978,  991.77002 ,\n",
       "        986.      ,  989.440002,  989.52002 ,  970.      ,  968.369995,\n",
       "        980.      , 1009.190002, 1014.      , 1015.219971, 1017.210022,\n",
       "       1021.76001 , 1022.109985, 1028.98999 , 1027.27002 , 1030.52002 ,\n",
       "       1033.98999 , 1026.459961, 1023.419983, 1022.590027, 1019.210022,\n",
       "       1022.52002 , 1034.01001 , 1020.26001 , 1023.309998, 1035.      ,\n",
       "       1035.869995, 1040.      , 1055.089966, 1042.680054, 1022.369995,\n",
       "       1015.799988, 1012.659973,  995.940002, 1001.5     , 1020.429993,\n",
       "       1037.48999 , 1035.5     , 1039.630005, 1046.119995, 1045.      ,\n",
       "       1054.609985, 1066.079956, 1075.199951, 1071.780029, 1064.949951,\n",
       "       1061.109985, 1058.069946, 1057.390015, 1051.599976, 1046.719971,\n",
       "       1048.339966, 1064.310059, 1088.      , 1094.      , 1102.22998 ,\n",
       "       1109.400024, 1097.099976, 1106.300049, 1102.410034, 1132.51001 ,\n",
       "       1126.219971, 1131.410034, 1131.829956, 1137.48999 , 1159.849976,\n",
       "       1177.329956, 1172.530029, 1175.079956, 1176.47998 , 1167.829956,\n",
       "       1170.569946, 1162.609985, 1122.      , 1090.599976, 1027.180054,\n",
       "       1081.540039, 1055.410034, 1017.25    , 1048.      , 1045.      ,\n",
       "       1048.949951, 1079.069946, 1088.410034, 1090.569946, 1106.469971,\n",
       "       1116.189941, 1112.640015, 1127.800049, 1141.23999 , 1123.030029,\n",
       "       1107.869995, 1053.079956, 1075.140015, 1099.219971, 1089.189941,\n",
       "       1115.319946, 1136.      , 1163.849976, 1170.      , 1145.209961,\n",
       "       1149.959961, 1154.140015, 1120.01001 , 1099.      , 1092.73999 ,\n",
       "       1081.880005, 1047.030029, 1046.      , 1063.      ,  998.      ,\n",
       "       1011.630005, 1022.820007, 1013.909973,  993.409973, 1041.329956,\n",
       "       1020.      , 1016.799988, 1026.439941, 1027.98999 , 1025.040039,\n",
       "       1040.880005, 1037.      , 1051.369995, 1077.430054, 1069.400024,\n",
       "       1082.      , 1077.859985, 1052.      , 1025.52002 , 1029.51001 ,\n",
       "       1046.      , 1030.01001 , 1013.659973, 1028.099976, 1019.      ,\n",
       "       1016.900024, 1049.22998 , 1058.540039, 1058.099976, 1086.030029,\n",
       "       1093.599976, 1100.      , 1090.      , 1077.310059, 1079.890015,\n",
       "       1061.859985, 1074.060059, 1083.560059, 1065.130005, 1079.      ,\n",
       "       1079.02002 , 1064.890015, 1063.030029, 1067.560059, 1099.349976,\n",
       "       1122.329956, 1140.98999 , 1142.170044, 1131.319946, 1118.180054,\n",
       "       1118.599976, 1131.069946, 1141.119995, 1143.849976, 1148.859985,\n",
       "       1143.650024, 1158.5     , 1175.310059, 1174.849976, 1159.140015,\n",
       "       1143.599976, 1128.      , 1121.339966, 1102.089966, 1120.      ])"
      ]
     },
     "execution_count": 24,
     "metadata": {},
     "output_type": "execute_result"
    }
   ],
   "source": [
    "inputs = dataset_total[len(dataset_total) - len(dataset_test)-60:].values\n",
    "inputs"
   ]
  },
  {
   "cell_type": "code",
   "execution_count": 25,
   "id": "ced52604",
   "metadata": {},
   "outputs": [],
   "source": [
    "inputs = inputs.reshape(-1,1)"
   ]
  },
  {
   "cell_type": "code",
   "execution_count": 26,
   "id": "2409d499",
   "metadata": {},
   "outputs": [
    {
     "data": {
      "text/plain": [
       "array([[ 955.48999 ],\n",
       "       [ 966.700012],\n",
       "       [ 980.      ],\n",
       "       [ 980.      ],\n",
       "       [ 973.719971],\n",
       "       [ 987.450012],\n",
       "       [ 992.      ],\n",
       "       [ 992.099976],\n",
       "       [ 990.289978],\n",
       "       [ 991.77002 ],\n",
       "       [ 986.      ],\n",
       "       [ 989.440002],\n",
       "       [ 989.52002 ],\n",
       "       [ 970.      ],\n",
       "       [ 968.369995],\n",
       "       [ 980.      ],\n",
       "       [1009.190002],\n",
       "       [1014.      ],\n",
       "       [1015.219971],\n",
       "       [1017.210022],\n",
       "       [1021.76001 ],\n",
       "       [1022.109985],\n",
       "       [1028.98999 ],\n",
       "       [1027.27002 ],\n",
       "       [1030.52002 ],\n",
       "       [1033.98999 ],\n",
       "       [1026.459961],\n",
       "       [1023.419983],\n",
       "       [1022.590027],\n",
       "       [1019.210022],\n",
       "       [1022.52002 ],\n",
       "       [1034.01001 ],\n",
       "       [1020.26001 ],\n",
       "       [1023.309998],\n",
       "       [1035.      ],\n",
       "       [1035.869995],\n",
       "       [1040.      ],\n",
       "       [1055.089966],\n",
       "       [1042.680054],\n",
       "       [1022.369995],\n",
       "       [1015.799988],\n",
       "       [1012.659973],\n",
       "       [ 995.940002],\n",
       "       [1001.5     ],\n",
       "       [1020.429993],\n",
       "       [1037.48999 ],\n",
       "       [1035.5     ],\n",
       "       [1039.630005],\n",
       "       [1046.119995],\n",
       "       [1045.      ],\n",
       "       [1054.609985],\n",
       "       [1066.079956],\n",
       "       [1075.199951],\n",
       "       [1071.780029],\n",
       "       [1064.949951],\n",
       "       [1061.109985],\n",
       "       [1058.069946],\n",
       "       [1057.390015],\n",
       "       [1051.599976],\n",
       "       [1046.719971],\n",
       "       [1048.339966],\n",
       "       [1064.310059],\n",
       "       [1088.      ],\n",
       "       [1094.      ],\n",
       "       [1102.22998 ],\n",
       "       [1109.400024],\n",
       "       [1097.099976],\n",
       "       [1106.300049],\n",
       "       [1102.410034],\n",
       "       [1132.51001 ],\n",
       "       [1126.219971],\n",
       "       [1131.410034],\n",
       "       [1131.829956],\n",
       "       [1137.48999 ],\n",
       "       [1159.849976],\n",
       "       [1177.329956],\n",
       "       [1172.530029],\n",
       "       [1175.079956],\n",
       "       [1176.47998 ],\n",
       "       [1167.829956],\n",
       "       [1170.569946],\n",
       "       [1162.609985],\n",
       "       [1122.      ],\n",
       "       [1090.599976],\n",
       "       [1027.180054],\n",
       "       [1081.540039],\n",
       "       [1055.410034],\n",
       "       [1017.25    ],\n",
       "       [1048.      ],\n",
       "       [1045.      ],\n",
       "       [1048.949951],\n",
       "       [1079.069946],\n",
       "       [1088.410034],\n",
       "       [1090.569946],\n",
       "       [1106.469971],\n",
       "       [1116.189941],\n",
       "       [1112.640015],\n",
       "       [1127.800049],\n",
       "       [1141.23999 ],\n",
       "       [1123.030029],\n",
       "       [1107.869995],\n",
       "       [1053.079956],\n",
       "       [1075.140015],\n",
       "       [1099.219971],\n",
       "       [1089.189941],\n",
       "       [1115.319946],\n",
       "       [1136.      ],\n",
       "       [1163.849976],\n",
       "       [1170.      ],\n",
       "       [1145.209961],\n",
       "       [1149.959961],\n",
       "       [1154.140015],\n",
       "       [1120.01001 ],\n",
       "       [1099.      ],\n",
       "       [1092.73999 ],\n",
       "       [1081.880005],\n",
       "       [1047.030029],\n",
       "       [1046.      ],\n",
       "       [1063.      ],\n",
       "       [ 998.      ],\n",
       "       [1011.630005],\n",
       "       [1022.820007],\n",
       "       [1013.909973],\n",
       "       [ 993.409973],\n",
       "       [1041.329956],\n",
       "       [1020.      ],\n",
       "       [1016.799988],\n",
       "       [1026.439941],\n",
       "       [1027.98999 ],\n",
       "       [1025.040039],\n",
       "       [1040.880005],\n",
       "       [1037.      ],\n",
       "       [1051.369995],\n",
       "       [1077.430054],\n",
       "       [1069.400024],\n",
       "       [1082.      ],\n",
       "       [1077.859985],\n",
       "       [1052.      ],\n",
       "       [1025.52002 ],\n",
       "       [1029.51001 ],\n",
       "       [1046.      ],\n",
       "       [1030.01001 ],\n",
       "       [1013.659973],\n",
       "       [1028.099976],\n",
       "       [1019.      ],\n",
       "       [1016.900024],\n",
       "       [1049.22998 ],\n",
       "       [1058.540039],\n",
       "       [1058.099976],\n",
       "       [1086.030029],\n",
       "       [1093.599976],\n",
       "       [1100.      ],\n",
       "       [1090.      ],\n",
       "       [1077.310059],\n",
       "       [1079.890015],\n",
       "       [1061.859985],\n",
       "       [1074.060059],\n",
       "       [1083.560059],\n",
       "       [1065.130005],\n",
       "       [1079.      ],\n",
       "       [1079.02002 ],\n",
       "       [1064.890015],\n",
       "       [1063.030029],\n",
       "       [1067.560059],\n",
       "       [1099.349976],\n",
       "       [1122.329956],\n",
       "       [1140.98999 ],\n",
       "       [1142.170044],\n",
       "       [1131.319946],\n",
       "       [1118.180054],\n",
       "       [1118.599976],\n",
       "       [1131.069946],\n",
       "       [1141.119995],\n",
       "       [1143.849976],\n",
       "       [1148.859985],\n",
       "       [1143.650024],\n",
       "       [1158.5     ],\n",
       "       [1175.310059],\n",
       "       [1174.849976],\n",
       "       [1159.140015],\n",
       "       [1143.599976],\n",
       "       [1128.      ],\n",
       "       [1121.339966],\n",
       "       [1102.089966],\n",
       "       [1120.      ]])"
      ]
     },
     "execution_count": 26,
     "metadata": {},
     "output_type": "execute_result"
    }
   ],
   "source": [
    "inputs"
   ]
  },
  {
   "cell_type": "code",
   "execution_count": 27,
   "id": "c866637c",
   "metadata": {},
   "outputs": [
    {
     "data": {
      "text/plain": [
       "(185, 1)"
      ]
     },
     "execution_count": 27,
     "metadata": {},
     "output_type": "execute_result"
    }
   ],
   "source": [
    "inputs = sc.transform(inputs)\n",
    "inputs.shape"
   ]
  },
  {
   "cell_type": "code",
   "execution_count": 28,
   "id": "a4c36d4c",
   "metadata": {},
   "outputs": [],
   "source": [
    "x_test = []\n",
    "for i in range(60,185):\n",
    "    x_test.append(inputs[i-60:i,0])"
   ]
  },
  {
   "cell_type": "code",
   "execution_count": 29,
   "id": "d3ce263b",
   "metadata": {},
   "outputs": [
    {
     "data": {
      "text/plain": [
       "(125, 60)"
      ]
     },
     "execution_count": 29,
     "metadata": {},
     "output_type": "execute_result"
    }
   ],
   "source": [
    "x_test = np.array(x_test)\n",
    "x_test.shape"
   ]
  },
  {
   "cell_type": "code",
   "execution_count": 30,
   "id": "fad6aa02",
   "metadata": {},
   "outputs": [
    {
     "data": {
      "text/plain": [
       "(125, 60, 1)"
      ]
     },
     "execution_count": 30,
     "metadata": {},
     "output_type": "execute_result"
    }
   ],
   "source": [
    "x_test = np.reshape(x_test, (x_test.shape[0],x_test.shape[1],1))\n",
    "x_test.shape"
   ]
  },
  {
   "cell_type": "code",
   "execution_count": 31,
   "id": "d989ebf6",
   "metadata": {},
   "outputs": [
    {
     "name": "stdout",
     "output_type": "stream",
     "text": [
      "4/4 [==============================] - 7s 79ms/step\n"
     ]
    }
   ],
   "source": [
    "predicted_price = regressor.predict(x_test)"
   ]
  },
  {
   "cell_type": "code",
   "execution_count": 32,
   "id": "cf0247fb",
   "metadata": {},
   "outputs": [
    {
     "data": {
      "text/plain": [
       "array([[1026.9828 ],\n",
       "       [1025.3103 ],\n",
       "       [1023.5556 ],\n",
       "       [1022.8651 ],\n",
       "       [1023.92084],\n",
       "       [1026.9336 ],\n",
       "       [1031.7216 ],\n",
       "       [1037.3859 ],\n",
       "       [1043.2683 ],\n",
       "       [1048.7313 ],\n",
       "       [1054.1104 ],\n",
       "       [1059.4031 ],\n",
       "       [1064.5695 ],\n",
       "       [1069.4526 ],\n",
       "       [1073.9971 ],\n",
       "       [1078.6669 ],\n",
       "       [1084.0538 ],\n",
       "       [1090.0896 ],\n",
       "       [1096.4326 ],\n",
       "       [1102.6495 ],\n",
       "       [1108.1138 ],\n",
       "       [1112.5104 ],\n",
       "       [1115.5602 ],\n",
       "       [1116.2563 ],\n",
       "       [1113.6028 ],\n",
       "       [1106.1663 ],\n",
       "       [1095.4573 ],\n",
       "       [1082.8143 ],\n",
       "       [1068.7552 ],\n",
       "       [1054.8196 ],\n",
       "       [1042.2759 ],\n",
       "       [1032.0537 ],\n",
       "       [1025.2902 ],\n",
       "       [1022.5304 ],\n",
       "       [1023.49927],\n",
       "       [1027.692  ],\n",
       "       [1034.3824 ],\n",
       "       [1042.4387 ],\n",
       "       [1051.1027 ],\n",
       "       [1059.9773 ],\n",
       "       [1068.1235 ],\n",
       "       [1074.4633 ],\n",
       "       [1077.137  ],\n",
       "       [1076.1367 ],\n",
       "       [1072.8713 ],\n",
       "       [1068.4999 ],\n",
       "       [1064.583  ],\n",
       "       [1062.5571 ],\n",
       "       [1063.6388 ],\n",
       "       [1068.064  ],\n",
       "       [1074.506  ],\n",
       "       [1081.6335 ],\n",
       "       [1088.4928 ],\n",
       "       [1093.6123 ],\n",
       "       [1095.7906 ],\n",
       "       [1094.6973 ],\n",
       "       [1090.57   ],\n",
       "       [1083.3816 ],\n",
       "       [1073.7733 ],\n",
       "       [1063.2345 ],\n",
       "       [1051.5721 ],\n",
       "       [1039.3215 ],\n",
       "       [1027.5466 ],\n",
       "       [1016.9685 ],\n",
       "       [1007.5736 ],\n",
       "       [1000.4913 ],\n",
       "       [ 995.8265 ],\n",
       "       [ 993.1889 ],\n",
       "       [ 992.26776],\n",
       "       [ 992.6877 ],\n",
       "       [ 993.93256],\n",
       "       [ 995.916  ],\n",
       "       [ 998.36664],\n",
       "       [1001.31506],\n",
       "       [1005.28485],\n",
       "       [1010.13525],\n",
       "       [1015.7197 ],\n",
       "       [1021.54205],\n",
       "       [1026.4154 ],\n",
       "       [1028.9532 ],\n",
       "       [1028.7753 ],\n",
       "       [1026.6423 ],\n",
       "       [1023.1027 ],\n",
       "       [1018.3643 ],\n",
       "       [1013.1637 ],\n",
       "       [1007.9633 ],\n",
       "       [1003.0859 ],\n",
       "       [ 999.5685 ],\n",
       "       [ 998.1997 ],\n",
       "       [ 999.0841 ],\n",
       "       [1002.49365],\n",
       "       [1008.2753 ],\n",
       "       [1015.89484],\n",
       "       [1024.2227 ],\n",
       "       [1031.8813 ],\n",
       "       [1038.0428 ],\n",
       "       [1041.9451 ],\n",
       "       [1043.7573 ],\n",
       "       [1044.2067 ],\n",
       "       [1043.515  ],\n",
       "       [1042.2926 ],\n",
       "       [1041.0281 ],\n",
       "       [1039.67   ],\n",
       "       [1038.1312 ],\n",
       "       [1036.5416 ],\n",
       "       [1035.8481 ],\n",
       "       [1037.1326 ],\n",
       "       [1041.1305 ],\n",
       "       [1047.6614 ],\n",
       "       [1055.6088 ],\n",
       "       [1063.4336 ],\n",
       "       [1070.0531 ],\n",
       "       [1075.2656 ],\n",
       "       [1079.4121 ],\n",
       "       [1082.8741 ],\n",
       "       [1086.0022 ],\n",
       "       [1088.8065 ],\n",
       "       [1091.594  ],\n",
       "       [1094.8981 ],\n",
       "       [1098.8374 ],\n",
       "       [1102.8093 ],\n",
       "       [1105.8943 ],\n",
       "       [1107.2345 ],\n",
       "       [1106.4783 ],\n",
       "       [1103.404  ]], dtype=float32)"
      ]
     },
     "execution_count": 32,
     "metadata": {},
     "output_type": "execute_result"
    }
   ],
   "source": [
    "predicted_price = sc.inverse_transform(predicted_price)\n",
    "predicted_price"
   ]
  },
  {
   "cell_type": "code",
   "execution_count": 33,
   "id": "47441001",
   "metadata": {},
   "outputs": [
    {
     "data": {
      "image/png": "[encoded data removed]",
      "text/plain": [
       "<Figure size 640x480 with 1 Axes>"
      ]
     },
     "metadata": {},
     "output_type": "display_data"
    }
   ],
   "source": [
    "plt.plot(real_stock_price,color = 'red', label = 'Real Price')\n",
    "plt.plot(predicted_price, color = 'blue', label = 'Predicted Price')\n",
    "plt.title('Google Stock Price Prediction')\n",
    "plt.xlabel('Time')\n",
    "plt.ylabel('Google Stock Price')\n",
    "plt.legend()\n",
    "plt.show()"
   ]
  },
  {
   "cell_type": "code",
   "execution_count": null,
   "id": "cf713131",
   "metadata": {},
   "outputs": [],
   "source": []
  }
 ],
 "metadata": {
  "kernelspec": {
   "display_name": "Python 3",
   "language": "python",
   "name": "python3"
  },
  "language_info": {
   "codemirror_mode": {
    "name": "ipython",
    "version": 3
   },
   "file_extension": ".py",
   "mimetype": "text/x-python",
   "name": "python",
   "nbconvert_exporter": "python",
   "pygments_lexer": "ipython3",
   "version": "3.10.9"
  }
 },
 "nbformat": 4,
 "nbformat_minor": 5
}
